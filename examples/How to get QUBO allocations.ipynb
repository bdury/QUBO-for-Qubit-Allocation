{
 "cells": [
  {
   "cell_type": "markdown",
   "metadata": {},
   "source": [
    "### This notebook will provide the minimal code needed to generate your own QUBO allocations and save them to a numpy record array\n",
    "#### (Note that there are many other functions available in the source-code that provide other tools for working with the data, so give them a look if you're interested.)"
   ]
  },
  {
   "cell_type": "code",
   "execution_count": 1,
   "metadata": {},
   "outputs": [],
   "source": [
    "# Import the main scripts (Benchmark internally imports the other scripts so you can just call this)\n",
    "import sys\n",
    "from pathlib import Path\n",
    "sys.path.insert(1,  str(Path().resolve().parent / 'src')  ) # Do this to access the python scripts in \n",
    "\n",
    "from benchmark import *\n",
    "import numpy as np"
   ]
  },
  {
   "cell_type": "code",
   "execution_count": 2,
   "metadata": {},
   "outputs": [
    {
     "name": "stdout",
     "output_type": "stream",
     "text": [
      "C:\\work\\QUBO-for-Qubit-Allocation\\benchmarks\\circuits\n"
     ]
    }
   ],
   "source": [
    "# We need to define where the circuits we would like to find allocations for are located\n",
    "# It is assumed that they are formatted like 'qasm' files (easily generated using Qiskit's QuantumCircuit object .qasm() method)\n",
    "# where the first 3 lines don't contain any gate operations (look at one of the circuits we reference here for an example)\n",
    "\n",
    "# For ease of example we just point to the benchmarks sets we used in the paper\n",
    "# We use pathlib just for an OS agnostic call (you could insert your own absolute path)\n",
    "from pathlib import Path\n",
    "\n",
    "loc = str(Path().resolve().parent / 'benchmarks' / 'circuits')\n",
    "print(loc)"
   ]
  },
  {
   "cell_type": "code",
   "execution_count": 4,
   "metadata": {},
   "outputs": [
    {
     "name": "stdout",
     "output_type": "stream",
     "text": [
      "Here are the first 5 circuits in circ_list:  \n",
      " ['0410184_169.qasm' '3_17_13.qasm' '4gt10-v1_81.qasm' '4gt11_82.qasm'\n",
      " '4gt11_83.qasm']\n"
     ]
    }
   ],
   "source": [
    "# To get a list of the circuits in the location of loc, we generate a 'property array' for the circuits\n",
    "# if you don't already have one use 'calc_properties' function, we just load an old one\n",
    "prop_loc = str(Path().resolve().parent / 'benchmarks' / 'data' / 'property array' / 'circ_prop_with_depth_2020-08-20-15.28.53.npy')\n",
    "prop_arr = np.load(prop_loc, allow_pickle=True)\n",
    "\n",
    "# There are some 16 qubit circuits in the prop_arr as is, so we remove them here\n",
    "prop_arr = np.delete(prop_arr, np.where( prop_arr['logical_qubit']==16)[0] )\n",
    "\n",
    "# Now we can just grab the list of circuit names using the 'circuit' record in the array\n",
    "circ_list = prop_arr['circuit']\n",
    "print('Here are the first 5 circuits in circ_list: ', '\\n', circ_list[:5])"
   ]
  },
  {
   "cell_type": "code",
   "execution_count": 5,
   "metadata": {},
   "outputs": [
    {
     "name": "stdout",
     "output_type": "stream",
     "text": [
      "These are the connected edges for melbourne:  \n",
      " [[1, 0], [1, 2], [2, 3], [4, 3], [4, 10], [5, 4], [5, 6], [5, 9], [6, 8], [7, 8], [9, 8], [9, 10], [11, 10], [11, 3], [11, 12], [12, 2], [13, 1], [13, 12], [14, 0], [14, 13]]\n",
      "This hardware graph has:  15 qubits.\n"
     ]
    },
    {
     "data": {
      "image/png": "[encoded data removed]",
      "text/plain": [
       "<Figure size 432x288 with 1 Axes>"
      ]
     },
     "metadata": {},
     "output_type": "display_data"
    }
   ],
   "source": [
    "# We also have to generate a hardware graph to feed into the benchmark function\n",
    "# It expects this to be a networkx graph object\n",
    "import networkx as nx\n",
    "\n",
    "graph = nx.Graph()\n",
    "\n",
    "# At this point, whatever you define this graph to look like will decide what the hardware graph is for the allocations\n",
    "# We use melbourne for simplicity (and because have error-rate data for it)\n",
    "\n",
    "# To get the hardware edges for melbourne, we use our 'hardware_graph' function\n",
    "mel_edges = hardware_edges('melbourne')\n",
    "print('These are the connected edges for melbourne: ', '\\n', mel_edges)\n",
    "\n",
    "graph.add_edges_from(mel_edges)\n",
    "\n",
    "# You can also draw the graph if you want to see what it looks like\n",
    "nx.draw(graph)\n",
    "\n",
    "# We need the number of physical qubits in the hardware graph - we grab this from the graph itself\n",
    "n_p = len(graph)\n",
    "print('This hardware graph has: ', n_p, 'qubits.')"
   ]
  },
  {
   "cell_type": "code",
   "execution_count": 8,
   "metadata": {},
   "outputs": [],
   "source": [
    "# The only thing left to do is specify the one and two qubit error rates\n",
    "# In this case, we use the calibration CSV for melbourne that IBM QX provides\n",
    "# And just have to specify that csv's location - the benchmark function handles the rest\n",
    "\n",
    "err_loc = str(Path().resolve().parent / 'examples' / 'IBM_qc_csv' / 'ibmq_16_melbourne(july-12).csv')"
   ]
  },
  {
   "cell_type": "code",
   "execution_count": 11,
   "metadata": {},
   "outputs": [
    {
     "name": "stderr",
     "output_type": "stream",
     "text": [
      "151it [22:47,  9.06s/it]\n"
     ]
    }
   ],
   "source": [
    "# Now we just have to run the benchmark function with the fields we just defined\n",
    "\n",
    "benchmark(circuit_list = circ_list,\n",
    "          loc = loc,\n",
    "          n_p = n_p,\n",
    "          graph = graph,\n",
    "          err_graph = err_loc,\n",
    "          num_samples = 1000)\n",
    "\n",
    "### If you want to change the coefficient form used, go into the 'benchmark.py' file and edit the coefficient forms defined as 'heur1', 'heur2' and 'heur3'\n",
    "### Notice how each of them is a matrix where the positions in the matrix mirror the coefficients as defined in the paper and try to follow the same form\n",
    "### When encoding your metric as a matrixy"
   ]
  },
  {
   "cell_type": "code",
   "execution_count": 13,
   "metadata": {},
   "outputs": [],
   "source": [
    "# The previous function will save a numpy record array of the data from the run to 'QUBO-for-Qubit-Allocation/benchmarks/data/benchmark array'\n",
    "# that can be loaded using numpy.load(filename, allow_pickle=True). Below we load a run of a benchmark array I made using the set of benchmark circuits\n",
    "\n",
    "bm_arr = np.load( str(Path().resolve().parent / 'benchmarks' / 'data' / 'benchmark array' / 'benchmark-results_2020-08-31-19.25.15.npy'), allow_pickle=True)"
   ]
  },
  {
   "cell_type": "code",
   "execution_count": 20,
   "metadata": {},
   "outputs": [
    {
     "name": "stdout",
     "output_type": "stream",
     "text": [
      "This is the base benchmark array dtypes:  [('penalty', 'O'), ('time', '<f8'), ('circuit', '<U40'), ('data_array', 'O')] \n",
      "\n",
      "This is the data array dtypes:  [('allocation', 'O'), ('energy', '<f8'), ('occurences', '<i8'), ('swaps', '<i8'), ('success_prob', '<f8')] \n",
      "\n",
      "[(array([[0, 0, 0, 0, 0, 0, 0, 0, 0, 0, 0, 0, 1, 0, 0],\n",
      "       [0, 0, 1, 0, 0, 0, 0, 0, 0, 0, 0, 0, 0, 0, 0],\n",
      "       [0, 0, 0, 1, 0, 0, 0, 0, 0, 0, 0, 0, 0, 0, 0],\n",
      "       [0, 0, 0, 0, 1, 0, 0, 0, 0, 0, 0, 0, 0, 0, 0],\n",
      "       [0, 0, 0, 0, 0, 0, 0, 0, 0, 0, 1, 0, 0, 0, 0],\n",
      "       [0, 0, 0, 0, 0, 0, 0, 0, 0, 0, 0, 1, 0, 0, 0]], dtype=int8), -272716.73525142, 9, 74, 0.00062308)\n",
      " (array([[0, 0, 0, 0, 1, 0, 0, 0, 0, 0, 0, 0, 0, 0, 0],\n",
      "       [0, 0, 0, 0, 0, 0, 0, 0, 0, 0, 1, 0, 0, 0, 0],\n",
      "       [0, 0, 0, 0, 0, 0, 0, 0, 0, 0, 0, 1, 0, 0, 0],\n",
      "       [0, 0, 0, 0, 0, 0, 0, 0, 0, 0, 0, 0, 1, 0, 0],\n",
      "       [0, 0, 1, 0, 0, 0, 0, 0, 0, 0, 0, 0, 0, 0, 0],\n",
      "       [0, 0, 0, 1, 0, 0, 0, 0, 0, 0, 0, 0, 0, 0, 0]], dtype=int8), -272716.18574938, 3, 74, 0.00037077)\n",
      " (array([[0, 0, 0, 0, 0, 0, 0, 0, 0, 0, 1, 0, 0, 0, 0],\n",
      "       [0, 0, 0, 0, 1, 0, 0, 0, 0, 0, 0, 0, 0, 0, 0],\n",
      "       [0, 0, 0, 1, 0, 0, 0, 0, 0, 0, 0, 0, 0, 0, 0],\n",
      "       [0, 0, 1, 0, 0, 0, 0, 0, 0, 0, 0, 0, 0, 0, 0],\n",
      "       [0, 0, 0, 0, 0, 0, 0, 0, 0, 0, 0, 0, 1, 0, 0],\n",
      "       [0, 0, 0, 0, 0, 0, 0, 0, 0, 0, 0, 1, 0, 0, 0]], dtype=int8), -272714.31487751, 8, 74, 0.0003266 )]\n"
     ]
    }
   ],
   "source": [
    "# If we query the dtype of the array we can see what all the records are\n",
    "print('This is the base benchmark array dtypes: ', bm_arr.dtype, '\\n')\n",
    "\n",
    "# The record 'data_array' contains a record array of all of the allocations from the simulated annealing run. Lets access a specific one:\n",
    "data =  bm_arr['data_array'][6]\n",
    "print('This is the data array dtypes: ', data.dtype, '\\n')\n",
    "\n",
    "# Here are the first 3 allocations:\n",
    "print(data[:3])\n",
    "\n",
    "# By default the data arrays should be sorted by lowest to highest energy, but this may not always be the case.\n",
    "# Use data.sort(order='record_name') (eg. record_name = 'energy')"
   ]
  },
  {
   "cell_type": "code",
   "execution_count": null,
   "metadata": {},
   "outputs": [],
   "source": [
    "# For each anneal run's allocation we get the energy (cost) of the allocation, how many times this specific allocation occured out of all the runs,\n",
    "# how many naive-SWAP gates are required for this allocation and the success probability of the final circuit, including SWAPs\n",
    "\n",
    "# A lot of the functions in 'benchmark.py' will interface with this sort of array and do some data visualization or do things like feed it to qiskit and see\n",
    "# what qiskit does with the initial allocation. If you're interested with working with the data further please check out all the source files and peruse what is\n",
    "# available. If there is something you'd like to do with it that isn't natively implemented, feel free to contribute to the code (it is open-source) or throw\n",
    "# an issue on the Github.\n",
    "\n",
    "# Good-luck with the code and happy QUBO-ing qubit allocation!"
   ]
  }
 ],
 "metadata": {
  "kernelspec": {
   "display_name": "Python 3",
   "language": "python",
   "name": "python3"
  },
  "language_info": {
   "codemirror_mode": {
    "name": "ipython",
    "version": 3
   },
   "file_extension": ".py",
   "mimetype": "text/x-python",
   "name": "python",
   "nbconvert_exporter": "python",
   "pygments_lexer": "ipython3",
   "version": "3.7.6"
  }
 },
 "nbformat": 4,
 "nbformat_minor": 4
}

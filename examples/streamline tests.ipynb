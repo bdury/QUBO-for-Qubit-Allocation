{
 "cells": [
  {
   "cell_type": "code",
   "execution_count": 1,
   "id": "dc307aa0-1151-4b67-bfd1-4d9fd9ee8ced",
   "metadata": {},
   "outputs": [],
   "source": [
    "# Import the main scripts (Benchmark internally imports the other scripts so you can just call this)\n",
    "import sys\n",
    "from pathlib import Path\n",
    "sys.path.insert(1,  str(Path().resolve().parent / 'src')  ) # Do this to access the python scripts in src folder\n",
    "\n",
    "from benchmark import *\n",
    "import numpy as np"
   ]
  },
  {
   "cell_type": "code",
   "execution_count": 7,
   "id": "9dade7df-ed89-42f6-a277-fb45facfbfd3",
   "metadata": {},
   "outputs": [
    {
     "name": "stdout",
     "output_type": "stream",
     "text": [
      "C:\\work\\__PAPERCORRECTIONS\\QUBO-for-Qubit-Allocation\\benchmarks\\circuits\n"
     ]
    }
   ],
   "source": [
    "#!#\n",
    "# Grab circuit locations\n",
    "loc = str(Path().resolve().parent / 'benchmarks' / 'circuits')\n",
    "print(loc)\n",
    "\n",
    "#!!#\n",
    "\n",
    "# Create prop_arr for new set of circuits (if necc.)\n",
    "# calc_properties(loc) # Saves to Path().resolve().parent / 'benchmarks' / 'data' / 'property array'\n",
    "\n",
    "# Grab prop_arr\n",
    "prop_loc = str(Path().resolve().parent / 'benchmarks' / 'data' / 'property array' / 'circ_prop_with_depth_2020-08-20-15.28.53.npy')\n",
    "prop_arr = np.load(prop_loc, allow_pickle=True)\n",
    "\n",
    "# Delete circuits that dont match hardware graph (in this case 16 qubit ones)\n",
    "# and then populate circuit list\n",
    "prop_arr = np.delete(prop_arr, np.where( prop_arr['logical_qubit']==16)[0] )\n",
    "circ_list = prop_arr['circuit']\n",
    "\n",
    "\n",
    "#!!!#\n",
    "\n",
    "# Need graph information defined\n",
    "import networkx as nx\n",
    "\n",
    "edges = hardware_edges('melbourne') # insert which hardware you need in argument\n",
    "graph = nx.Graph()\n",
    "graph.add_edges_from(edges)\n",
    "\n",
    "n_p = len(graph) # number of graph qubits\n",
    "\n",
    "#!!!!#\n",
    "\n",
    "# Specify error rates if available for hardware graph\n",
    "# If not available, ignore\n",
    "\n",
    "err_loc = str(Path().resolve().parent / 'examples' / 'IBM_qc_csv' / 'ibmq_16_melbourne(july-12).csv')"
   ]
  },
  {
   "cell_type": "code",
   "execution_count": 8,
   "id": "ee37dd94-7c31-4bdf-a2f8-269ae849571b",
   "metadata": {},
   "outputs": [
    {
     "name": "stderr",
     "output_type": "stream",
     "text": [
      "151it [20:52,  8.30s/it]\n"
     ]
    }
   ],
   "source": [
    "# Perform benchmarking\n",
    "\n",
    "benchmark(circuit_list = circ_list,\n",
    "          loc = loc,\n",
    "          n_p = n_p,\n",
    "          graph = graph,\n",
    "          err_graph = err_loc, # I think the benchmark function needs to be adjusted so error rates can be unspecified\n",
    "          num_samples = 1000)"
   ]
  },
  {
   "cell_type": "code",
   "execution_count": null,
   "id": "1437e96d-7e6d-4eee-b759-efb6f7026df4",
   "metadata": {},
   "outputs": [],
   "source": [
    "# Benchmarking will save a numpy record array of the data from the run to '/benchmarks/data/benchmark array'\n",
    "# Load that array below\n",
    "\n",
    "bm_name = 'benchmark-results_2020-08-31-19.25.15.npy'\n",
    "bm_arr = np.load( str(Path().resolve().parent / 'benchmarks' / 'data' / 'benchmark array' / bm_name), allow_pickle=True) # Need allow pickle\n",
    "\n"
   ]
  },
  {
   "cell_type": "code",
   "execution_count": null,
   "id": "51d50d35-24fb-41a6-96bf-00034f436214",
   "metadata": {},
   "outputs": [],
   "source": [
    "## Use for comparing performance of diff cost functions\n",
    "\n",
    "# # Get comparison plots for swap/success_prob metrics for two benchmark runs\n",
    "# arr1 = gate_sp_d2 \n",
    "# arr2 = gate_sp\n",
    "\n",
    "# # Sort arrays so their data is all lined up\n",
    "# prop_arr.sort(order='circuit')\n",
    "# arr1.sort(order='circuit')\n",
    "# arr2.sort(order='circuit')\n",
    "\n",
    "# coef_judge(prop_arr, arr1['data_array'], arr2['data_array'], .01, label1='gate_sp_d2', label2='gate_sp', flip=False)"
   ]
  }
 ],
 "metadata": {
  "kernelspec": {
   "display_name": "Python 3 (ipykernel)",
   "language": "python",
   "name": "python3"
  },
  "language_info": {
   "codemirror_mode": {
    "name": "ipython",
    "version": 3
   },
   "file_extension": ".py",
   "mimetype": "text/x-python",
   "name": "python",
   "nbconvert_exporter": "python",
   "pygments_lexer": "ipython3",
   "version": "3.7.6"
  }
 },
 "nbformat": 4,
 "nbformat_minor": 5
}
